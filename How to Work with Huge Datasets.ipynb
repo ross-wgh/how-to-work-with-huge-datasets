{
 "cells": [
  {
   "cell_type": "markdown",
   "id": "0c749b81",
   "metadata": {},
   "source": [
    "# How to Work with Huge Datasets"
   ]
  },
  {
   "cell_type": "markdown",
   "id": "24484a26",
   "metadata": {},
   "source": [
    "## Ross Woleben"
   ]
  },
  {
   "cell_type": "markdown",
   "id": "98922a57",
   "metadata": {},
   "source": [
    "This notebook is a supplement to the [How to Work with Huge Datasets](https://www.rosswoleben.com/projects/big-data) post on my website. It discusses some file and data type optimizations, chunking, and parallel computing."
   ]
  },
  {
   "cell_type": "code",
   "execution_count": 1,
   "id": "6bb3281f",
   "metadata": {},
   "outputs": [],
   "source": [
    "import numpy as np\n",
    "import pandas as pd\n",
    "import os\n",
    "from datetime import datetime\n",
    "import gc\n",
    "import multiprocessing as mp"
   ]
  },
  {
   "cell_type": "code",
   "execution_count": 2,
   "id": "fbedc5c4",
   "metadata": {},
   "outputs": [
    {
     "data": {
      "text/plain": [
       "9.006762395"
      ]
     },
     "execution_count": 2,
     "metadata": {},
     "output_type": "execute_result"
    }
   ],
   "source": [
    "# Data from https://www.kaggle.com/datasets/mkechinov/ecommerce-behavior-data-from-multi-category-store\n",
    "file_path = \"data/2019-Nov.csv\"\n",
    "# os.stat returns a dictionary of file attributes; st_size is the file size in bytes. \n",
    "# Dividing byte size by 10^9 will give us size in gigabytes \n",
    "os.stat(file_path).st_size / 10 ** 9"
   ]
  },
  {
   "cell_type": "markdown",
   "id": "7f649145",
   "metadata": {},
   "source": [
    "We can see that this CSV file takes up 9 gigabytes of storage; reading the entire dataset into memory may be possible, but will take up a lot of resources. Let's use a few strategies to make huge files like this much easier to work with.\n",
    "<br><br>\n",
    "Note: For this notebook, I'll be demonstrating these strategies with Pandas. Pandas may not be the best data structure for a huge dataset, but it still shows the value of each strategy."
   ]
  },
  {
   "cell_type": "markdown",
   "id": "59c854e0",
   "metadata": {},
   "source": [
    "## Explicit Data Typing"
   ]
  },
  {
   "cell_type": "markdown",
   "id": "72c84e18",
   "metadata": {},
   "source": [
    "When a CSV is read into a data structure like Pandas, the data types for each column are inferred, leading for the possibility of using a lot of unneccesary memory usage.\n",
    "<br>\n",
    "<br>\n",
    "For example, by default Pandas reads in all strings as a numpy \"object\" datatype, which requires a relatively large amount of memory. If these strings can take on a a fixed set of possible values, it makes a lot of sense to change the column to a \"category\" datatype. This concept extends to numberic columns too. If you have a column with integers that are all less than 4,294,967,295 (2^32), you'll want to use a 32-bit integer instead of a 64-bit integer.\n"
   ]
  },
  {
   "cell_type": "code",
   "execution_count": 3,
   "id": "38e745be",
   "metadata": {},
   "outputs": [
    {
     "data": {
      "text/html": [
       "<div>\n",
       "<style scoped>\n",
       "    .dataframe tbody tr th:only-of-type {\n",
       "        vertical-align: middle;\n",
       "    }\n",
       "\n",
       "    .dataframe tbody tr th {\n",
       "        vertical-align: top;\n",
       "    }\n",
       "\n",
       "    .dataframe thead th {\n",
       "        text-align: right;\n",
       "    }\n",
       "</style>\n",
       "<table border=\"1\" class=\"dataframe\">\n",
       "  <thead>\n",
       "    <tr style=\"text-align: right;\">\n",
       "      <th></th>\n",
       "      <th>event_time</th>\n",
       "      <th>event_type</th>\n",
       "      <th>product_id</th>\n",
       "      <th>category_id</th>\n",
       "      <th>category_code</th>\n",
       "      <th>brand</th>\n",
       "      <th>price</th>\n",
       "      <th>user_id</th>\n",
       "      <th>user_session</th>\n",
       "    </tr>\n",
       "  </thead>\n",
       "  <tbody>\n",
       "    <tr>\n",
       "      <th>0</th>\n",
       "      <td>2019-11-01 00:00:00 UTC</td>\n",
       "      <td>view</td>\n",
       "      <td>1003461</td>\n",
       "      <td>2053013555631882655</td>\n",
       "      <td>electronics.smartphone</td>\n",
       "      <td>xiaomi</td>\n",
       "      <td>489.07</td>\n",
       "      <td>520088904</td>\n",
       "      <td>4d3b30da-a5e4-49df-b1a8-ba5943f1dd33</td>\n",
       "    </tr>\n",
       "    <tr>\n",
       "      <th>1</th>\n",
       "      <td>2019-11-01 00:00:00 UTC</td>\n",
       "      <td>view</td>\n",
       "      <td>5000088</td>\n",
       "      <td>2053013566100866035</td>\n",
       "      <td>appliances.sewing_machine</td>\n",
       "      <td>janome</td>\n",
       "      <td>293.65</td>\n",
       "      <td>530496790</td>\n",
       "      <td>8e5f4f83-366c-4f70-860e-ca7417414283</td>\n",
       "    </tr>\n",
       "    <tr>\n",
       "      <th>2</th>\n",
       "      <td>2019-11-01 00:00:01 UTC</td>\n",
       "      <td>view</td>\n",
       "      <td>17302664</td>\n",
       "      <td>2053013553853497655</td>\n",
       "      <td>NaN</td>\n",
       "      <td>creed</td>\n",
       "      <td>28.31</td>\n",
       "      <td>561587266</td>\n",
       "      <td>755422e7-9040-477b-9bd2-6a6e8fd97387</td>\n",
       "    </tr>\n",
       "    <tr>\n",
       "      <th>3</th>\n",
       "      <td>2019-11-01 00:00:01 UTC</td>\n",
       "      <td>view</td>\n",
       "      <td>3601530</td>\n",
       "      <td>2053013563810775923</td>\n",
       "      <td>appliances.kitchen.washer</td>\n",
       "      <td>lg</td>\n",
       "      <td>712.87</td>\n",
       "      <td>518085591</td>\n",
       "      <td>3bfb58cd-7892-48cc-8020-2f17e6de6e7f</td>\n",
       "    </tr>\n",
       "    <tr>\n",
       "      <th>4</th>\n",
       "      <td>2019-11-01 00:00:01 UTC</td>\n",
       "      <td>view</td>\n",
       "      <td>1004775</td>\n",
       "      <td>2053013555631882655</td>\n",
       "      <td>electronics.smartphone</td>\n",
       "      <td>xiaomi</td>\n",
       "      <td>183.27</td>\n",
       "      <td>558856683</td>\n",
       "      <td>313628f1-68b8-460d-84f6-cec7a8796ef2</td>\n",
       "    </tr>\n",
       "  </tbody>\n",
       "</table>\n",
       "</div>"
      ],
      "text/plain": [
       "                event_time event_type  product_id          category_id  \\\n",
       "0  2019-11-01 00:00:00 UTC       view     1003461  2053013555631882655   \n",
       "1  2019-11-01 00:00:00 UTC       view     5000088  2053013566100866035   \n",
       "2  2019-11-01 00:00:01 UTC       view    17302664  2053013553853497655   \n",
       "3  2019-11-01 00:00:01 UTC       view     3601530  2053013563810775923   \n",
       "4  2019-11-01 00:00:01 UTC       view     1004775  2053013555631882655   \n",
       "\n",
       "               category_code   brand   price    user_id  \\\n",
       "0     electronics.smartphone  xiaomi  489.07  520088904   \n",
       "1  appliances.sewing_machine  janome  293.65  530496790   \n",
       "2                        NaN   creed   28.31  561587266   \n",
       "3  appliances.kitchen.washer      lg  712.87  518085591   \n",
       "4     electronics.smartphone  xiaomi  183.27  558856683   \n",
       "\n",
       "                           user_session  \n",
       "0  4d3b30da-a5e4-49df-b1a8-ba5943f1dd33  \n",
       "1  8e5f4f83-366c-4f70-860e-ca7417414283  \n",
       "2  755422e7-9040-477b-9bd2-6a6e8fd97387  \n",
       "3  3bfb58cd-7892-48cc-8020-2f17e6de6e7f  \n",
       "4  313628f1-68b8-460d-84f6-cec7a8796ef2  "
      ]
     },
     "execution_count": 3,
     "metadata": {},
     "output_type": "execute_result"
    }
   ],
   "source": [
    "# lets load in a fraction of data (around 1/7th of the rows) to see what kind of data types we're working with\n",
    "rows = 10_000_000\n",
    "df = pd.read_csv(file_path, nrows = rows)\n",
    "df.head(5)"
   ]
  },
  {
   "cell_type": "code",
   "execution_count": 4,
   "id": "4caa6105",
   "metadata": {
    "scrolled": true
   },
   "outputs": [
    {
     "data": {
      "text/plain": [
       "event_time        object\n",
       "event_type        object\n",
       "product_id         int64\n",
       "category_id        int64\n",
       "category_code     object\n",
       "brand             object\n",
       "price            float64\n",
       "user_id            int64\n",
       "user_session      object\n",
       "dtype: object"
      ]
     },
     "execution_count": 4,
     "metadata": {},
     "output_type": "execute_result"
    }
   ],
   "source": [
    "# use dataframe's .dtypes attribute to check the datatypes of each column\n",
    "df.dtypes"
   ]
  },
  {
   "cell_type": "code",
   "execution_count": 5,
   "id": "7346c648",
   "metadata": {
    "scrolled": true
   },
   "outputs": [
    {
     "name": "stdout",
     "output_type": "stream",
     "text": [
      "<class 'pandas.core.frame.DataFrame'>\n",
      "RangeIndex: 10000000 entries, 0 to 9999999\n",
      "Data columns (total 9 columns):\n",
      " #   Column         Dtype  \n",
      "---  ------         -----  \n",
      " 0   event_time     object \n",
      " 1   event_type     object \n",
      " 2   product_id     int64  \n",
      " 3   category_id    int64  \n",
      " 4   category_code  object \n",
      " 5   brand          object \n",
      " 6   price          float64\n",
      " 7   user_id        int64  \n",
      " 8   user_session   object \n",
      "dtypes: float64(1), int64(3), object(5)\n",
      "memory usage: 3.6 GB\n"
     ]
    }
   ],
   "source": [
    "# Use .info() to check the amount of memory being used\n",
    "df.info(memory_usage=\"deep\")"
   ]
  },
  {
   "cell_type": "markdown",
   "id": "7a0993cc",
   "metadata": {},
   "source": [
    "Note: We can see that loading in ~$\\frac{1}{7}$th of the data is using 3.6 gigabytes of memory. This is much larger than the logical 1.3 gigabytes ($\\frac{1}{7}$th of 9 gigabytes) because a Pandas dataframe object is dynamic and meant to be manipulated. As a result, storing the data in this object and obtaining the access to many different pandas methods and functions consumes more memory than just the raw memory required to load the data into RAM."
   ]
  },
  {
   "cell_type": "code",
   "execution_count": 6,
   "id": "c133a856",
   "metadata": {},
   "outputs": [
    {
     "name": "stdout",
     "output_type": "stream",
     "text": [
      "True\n",
      "False\n",
      "True\n"
     ]
    }
   ],
   "source": [
    "# Let's check and see if we can reduce the size of these integer columns\n",
    "# 4,294,967,295 is the maximum value for a 32-bit integer; \n",
    "# if True, we can replace the int64 datatype with int32 \n",
    "print(4_294_967_295 > np.max(df['product_id']))\n",
    "print(4_294_967_295 > np.max(df['category_id']))\n",
    "print(4_294_967_295 > np.max(df['user_id']))"
   ]
  },
  {
   "cell_type": "code",
   "execution_count": 7,
   "id": "49bf9b9e",
   "metadata": {},
   "outputs": [
    {
     "data": {
      "text/html": [
       "<div>\n",
       "<style scoped>\n",
       "    .dataframe tbody tr th:only-of-type {\n",
       "        vertical-align: middle;\n",
       "    }\n",
       "\n",
       "    .dataframe tbody tr th {\n",
       "        vertical-align: top;\n",
       "    }\n",
       "\n",
       "    .dataframe thead th {\n",
       "        text-align: right;\n",
       "    }\n",
       "</style>\n",
       "<table border=\"1\" class=\"dataframe\">\n",
       "  <thead>\n",
       "    <tr style=\"text-align: right;\">\n",
       "      <th></th>\n",
       "      <th>event_time</th>\n",
       "      <th>event_type</th>\n",
       "      <th>product_id</th>\n",
       "      <th>category_id</th>\n",
       "      <th>category_code</th>\n",
       "      <th>brand</th>\n",
       "      <th>price</th>\n",
       "      <th>user_id</th>\n",
       "      <th>user_session</th>\n",
       "    </tr>\n",
       "  </thead>\n",
       "  <tbody>\n",
       "    <tr>\n",
       "      <th>0</th>\n",
       "      <td>2019-11-01 00:00:00 UTC</td>\n",
       "      <td>view</td>\n",
       "      <td>1003461</td>\n",
       "      <td>2053013555631882655</td>\n",
       "      <td>electronics.smartphone</td>\n",
       "      <td>xiaomi</td>\n",
       "      <td>489.07</td>\n",
       "      <td>520088904</td>\n",
       "      <td>4d3b30da-a5e4-49df-b1a8-ba5943f1dd33</td>\n",
       "    </tr>\n",
       "    <tr>\n",
       "      <th>1</th>\n",
       "      <td>2019-11-01 00:00:00 UTC</td>\n",
       "      <td>view</td>\n",
       "      <td>5000088</td>\n",
       "      <td>2053013566100866035</td>\n",
       "      <td>appliances.sewing_machine</td>\n",
       "      <td>janome</td>\n",
       "      <td>293.65</td>\n",
       "      <td>530496790</td>\n",
       "      <td>8e5f4f83-366c-4f70-860e-ca7417414283</td>\n",
       "    </tr>\n",
       "    <tr>\n",
       "      <th>2</th>\n",
       "      <td>2019-11-01 00:00:01 UTC</td>\n",
       "      <td>view</td>\n",
       "      <td>17302664</td>\n",
       "      <td>2053013553853497655</td>\n",
       "      <td>NaN</td>\n",
       "      <td>creed</td>\n",
       "      <td>28.31</td>\n",
       "      <td>561587266</td>\n",
       "      <td>755422e7-9040-477b-9bd2-6a6e8fd97387</td>\n",
       "    </tr>\n",
       "    <tr>\n",
       "      <th>3</th>\n",
       "      <td>2019-11-01 00:00:01 UTC</td>\n",
       "      <td>view</td>\n",
       "      <td>3601530</td>\n",
       "      <td>2053013563810775923</td>\n",
       "      <td>appliances.kitchen.washer</td>\n",
       "      <td>lg</td>\n",
       "      <td>712.87</td>\n",
       "      <td>518085591</td>\n",
       "      <td>3bfb58cd-7892-48cc-8020-2f17e6de6e7f</td>\n",
       "    </tr>\n",
       "    <tr>\n",
       "      <th>4</th>\n",
       "      <td>2019-11-01 00:00:01 UTC</td>\n",
       "      <td>view</td>\n",
       "      <td>1004775</td>\n",
       "      <td>2053013555631882655</td>\n",
       "      <td>electronics.smartphone</td>\n",
       "      <td>xiaomi</td>\n",
       "      <td>183.27</td>\n",
       "      <td>558856683</td>\n",
       "      <td>313628f1-68b8-460d-84f6-cec7a8796ef2</td>\n",
       "    </tr>\n",
       "  </tbody>\n",
       "</table>\n",
       "</div>"
      ],
      "text/plain": [
       "                event_time event_type  product_id          category_id  \\\n",
       "0  2019-11-01 00:00:00 UTC       view     1003461  2053013555631882655   \n",
       "1  2019-11-01 00:00:00 UTC       view     5000088  2053013566100866035   \n",
       "2  2019-11-01 00:00:01 UTC       view    17302664  2053013553853497655   \n",
       "3  2019-11-01 00:00:01 UTC       view     3601530  2053013563810775923   \n",
       "4  2019-11-01 00:00:01 UTC       view     1004775  2053013555631882655   \n",
       "\n",
       "               category_code   brand   price    user_id  \\\n",
       "0     electronics.smartphone  xiaomi  489.07  520088904   \n",
       "1  appliances.sewing_machine  janome  293.65  530496790   \n",
       "2                        NaN   creed   28.31  561587266   \n",
       "3  appliances.kitchen.washer      lg  712.87  518085591   \n",
       "4     electronics.smartphone  xiaomi  183.27  558856683   \n",
       "\n",
       "                           user_session  \n",
       "0  4d3b30da-a5e4-49df-b1a8-ba5943f1dd33  \n",
       "1  8e5f4f83-366c-4f70-860e-ca7417414283  \n",
       "2  755422e7-9040-477b-9bd2-6a6e8fd97387  \n",
       "3  3bfb58cd-7892-48cc-8020-2f17e6de6e7f  \n",
       "4  313628f1-68b8-460d-84f6-cec7a8796ef2  "
      ]
     },
     "execution_count": 7,
     "metadata": {},
     "output_type": "execute_result"
    }
   ],
   "source": [
    "# Here are the datatypes I'm redefining for this dataset\n",
    "# Since event_type, category_code, and brand take on a fixed set of string values, \n",
    "# converting them to 'category' dtype saves memory usage\n",
    "df_dtypes = {'event_type': 'category', 'product_id': np.int32, 'category_code': 'category',\n",
    "             'brand': 'category', 'price': np.float64, 'user_id': np.int32}\n",
    "df_with_dtypes = pd.read_csv(file_path, nrows = rows, dtype = df_dtypes)\n",
    "df_with_dtypes.head(5)"
   ]
  },
  {
   "cell_type": "code",
   "execution_count": 8,
   "id": "dd85e83c",
   "metadata": {},
   "outputs": [
    {
     "name": "stdout",
     "output_type": "stream",
     "text": [
      "<class 'pandas.core.frame.DataFrame'>\n",
      "RangeIndex: 10000000 entries, 0 to 9999999\n",
      "Data columns (total 9 columns):\n",
      " #   Column         Dtype   \n",
      "---  ------         -----   \n",
      " 0   event_time     object  \n",
      " 1   event_type     category\n",
      " 2   product_id     int32   \n",
      " 3   category_id    int64   \n",
      " 4   category_code  category\n",
      " 5   brand          category\n",
      " 6   price          float64 \n",
      " 7   user_id        int32   \n",
      " 8   user_session   object  \n",
      "dtypes: category(3), float64(1), int32(2), int64(1), object(2)\n",
      "memory usage: 1.9 GB\n"
     ]
    }
   ],
   "source": [
    "df_with_dtypes.info(memory_usage=\"deep\")"
   ]
  },
  {
   "cell_type": "markdown",
   "id": "f357eb96",
   "metadata": {},
   "source": [
    "In this example, changing our datatypes alone saved nearly 50% of the memory usage (3.6 GB -> 1.9 GB). Depending on the types of data, this process can save an even larger percentage of memory, making it easier to perform computations in the data processing stage. "
   ]
  },
  {
   "cell_type": "markdown",
   "id": "b2a87a86",
   "metadata": {},
   "source": [
    "## File Types"
   ]
  },
  {
   "cell_type": "markdown",
   "id": "973150b2",
   "metadata": {},
   "source": [
    "CSV files are great if the data is meant to be opened in a program like Excel, but really struggles with huge amounts of data. This is primarily because there is no native compression built into CSV files and no metadata to signal a column's datatype. CSV file I/O is also relatively slow, meaning that it takes a long time to actually read the data into Python and a long time to write any changes back to storage. Luckily, there are several alternatives to CSVs that make working with huge data files much more efficient in storage, memory, and I/O speeds.\n",
    "<br>\n",
    "<br>\n",
    "You can actually define the datatypes before reading in a CSV file. This won't improve the speed in which it's read in, but will decrease the amount of memory it uses. However, once the data is written to storage as a CSV, it \"forgets\" the explicit typing and will revert back to an unoptimized state when read in."
   ]
  },
  {
   "cell_type": "code",
   "execution_count": 9,
   "id": "9d117896",
   "metadata": {},
   "outputs": [
    {
     "name": "stdout",
     "output_type": "stream",
     "text": [
      "<class 'pandas.core.frame.DataFrame'>\n",
      "RangeIndex: 10000000 entries, 0 to 9999999\n",
      "Columns: 9 entries, event_time to user_session\n",
      "dtypes: float64(1), int64(3), object(5)\n",
      "memory usage: 3.6 GB\n"
     ]
    }
   ],
   "source": [
    "df = pd.read_csv(file_path, nrows = rows)\n",
    "df.info(verbose = False, memory_usage = 'deep')"
   ]
  },
  {
   "cell_type": "code",
   "execution_count": 10,
   "id": "0fa9b3f4",
   "metadata": {},
   "outputs": [
    {
     "name": "stdout",
     "output_type": "stream",
     "text": [
      "<class 'pandas.core.frame.DataFrame'>\n",
      "RangeIndex: 10000000 entries, 0 to 9999999\n",
      "Columns: 9 entries, event_time to user_session\n",
      "dtypes: category(3), float64(1), int32(2), int64(1), object(2)\n",
      "memory usage: 1.9 GB\n"
     ]
    }
   ],
   "source": [
    "df = pd.read_csv(file_path, nrows = rows, dtype = df_dtypes)\n",
    "df.info(verbose = False, memory_usage = 'deep')"
   ]
  },
  {
   "cell_type": "code",
   "execution_count": 11,
   "id": "f16361bf",
   "metadata": {},
   "outputs": [],
   "source": [
    "# Clear up some memory we've used for this demonstration\n",
    "del df"
   ]
  },
  {
   "cell_type": "markdown",
   "id": "e9a91551",
   "metadata": {},
   "source": [
    "Now let's investigate I/O speeds and file sizes for multiple types of files. <br>\n",
    "Note: these speeds are subject to your computer hardware and the relative file type performance depends on the underlying dataset. You may need to experiment with each file type to see which is best for your own project. "
   ]
  },
  {
   "cell_type": "markdown",
   "id": "b8241dc3",
   "metadata": {},
   "source": [
    "### .csv"
   ]
  },
  {
   "cell_type": "markdown",
   "id": "47c92e76",
   "metadata": {},
   "source": [
    "Check how fast it is to write the Pandas dataframe above to storage"
   ]
  },
  {
   "cell_type": "code",
   "execution_count": 12,
   "id": "f7e61b17",
   "metadata": {
    "scrolled": true
   },
   "outputs": [
    {
     "name": "stdout",
     "output_type": "stream",
     "text": [
      "41.3 s ± 172 ms per loop (mean ± std. dev. of 7 runs, 1 loop each)\n"
     ]
    }
   ],
   "source": [
    "%%timeit\n",
    "df_with_dtypes.to_csv('file.csv', index = False)"
   ]
  },
  {
   "cell_type": "markdown",
   "id": "e9bb4c1c",
   "metadata": {},
   "source": [
    "Check how fast it is to read the Pandas dataframe into RAM"
   ]
  },
  {
   "cell_type": "code",
   "execution_count": 13,
   "id": "b1c7082f",
   "metadata": {},
   "outputs": [
    {
     "name": "stdout",
     "output_type": "stream",
     "text": [
      "12.1 s ± 97.7 ms per loop (mean ± std. dev. of 7 runs, 1 loop each)\n"
     ]
    }
   ],
   "source": [
    "%%timeit\n",
    "df_csv = pd.read_csv('file.csv')"
   ]
  },
  {
   "cell_type": "markdown",
   "id": "e7232ffe",
   "metadata": {},
   "source": [
    "Check the file size in storage"
   ]
  },
  {
   "cell_type": "code",
   "execution_count": 14,
   "id": "41e64ffb",
   "metadata": {
    "scrolled": true
   },
   "outputs": [
    {
     "data": {
      "text/plain": [
       "1.341149223"
      ]
     },
     "execution_count": 14,
     "metadata": {},
     "output_type": "execute_result"
    }
   ],
   "source": [
    "# 1.04 gigabytes\n",
    "os.stat('file.csv').st_size / 10 ** 9"
   ]
  },
  {
   "cell_type": "markdown",
   "id": "78dc114a",
   "metadata": {},
   "source": [
    "### .pickle"
   ]
  },
  {
   "cell_type": "code",
   "execution_count": 15,
   "id": "dc2e6e22",
   "metadata": {},
   "outputs": [
    {
     "name": "stdout",
     "output_type": "stream",
     "text": [
      "2.08 s ± 35.9 ms per loop (mean ± std. dev. of 7 runs, 1 loop each)\n"
     ]
    }
   ],
   "source": [
    "%%timeit\n",
    "df_with_dtypes.to_pickle('file.pickle')"
   ]
  },
  {
   "cell_type": "code",
   "execution_count": 16,
   "id": "1cb1a7b2",
   "metadata": {},
   "outputs": [
    {
     "name": "stdout",
     "output_type": "stream",
     "text": [
      "1.14 s ± 35.5 ms per loop (mean ± std. dev. of 7 runs, 1 loop each)\n"
     ]
    }
   ],
   "source": [
    "%%timeit\n",
    "df_pickle = pd.read_pickle('file.pickle')"
   ]
  },
  {
   "cell_type": "code",
   "execution_count": 17,
   "id": "76aed0d1",
   "metadata": {},
   "outputs": [
    {
     "data": {
      "text/plain": [
       "0.473383414"
      ]
     },
     "execution_count": 17,
     "metadata": {},
     "output_type": "execute_result"
    }
   ],
   "source": [
    "# 473 Megabytes\n",
    "os.stat('file.pickle').st_size / 10 ** 9"
   ]
  },
  {
   "cell_type": "markdown",
   "id": "8a4681c1",
   "metadata": {},
   "source": [
    "### .parquet"
   ]
  },
  {
   "cell_type": "code",
   "execution_count": 18,
   "id": "4a88f619",
   "metadata": {},
   "outputs": [
    {
     "name": "stdout",
     "output_type": "stream",
     "text": [
      "5.03 s ± 87 ms per loop (mean ± std. dev. of 7 runs, 1 loop each)\n"
     ]
    }
   ],
   "source": [
    "%%timeit\n",
    "df_with_dtypes.to_parquet('file.parquet')"
   ]
  },
  {
   "cell_type": "code",
   "execution_count": 19,
   "id": "86f2a95a",
   "metadata": {},
   "outputs": [
    {
     "name": "stdout",
     "output_type": "stream",
     "text": [
      "2.81 s ± 45.7 ms per loop (mean ± std. dev. of 7 runs, 1 loop each)\n"
     ]
    }
   ],
   "source": [
    "%%timeit\n",
    "df_parquet = pd.read_parquet('file.parquet')"
   ]
  },
  {
   "cell_type": "code",
   "execution_count": 20,
   "id": "d3cf73c9",
   "metadata": {},
   "outputs": [
    {
     "data": {
      "text/plain": [
       "0.384933645"
      ]
     },
     "execution_count": 20,
     "metadata": {},
     "output_type": "execute_result"
    }
   ],
   "source": [
    "# 385 Megabytes\n",
    "os.stat('file.parquet').st_size / 10 ** 9"
   ]
  },
  {
   "cell_type": "markdown",
   "id": "a7194b10",
   "metadata": {},
   "source": [
    "### .feather"
   ]
  },
  {
   "cell_type": "code",
   "execution_count": 21,
   "id": "830c17f3",
   "metadata": {},
   "outputs": [
    {
     "name": "stdout",
     "output_type": "stream",
     "text": [
      "2.21 s ± 43.6 ms per loop (mean ± std. dev. of 7 runs, 1 loop each)\n"
     ]
    }
   ],
   "source": [
    "%%timeit\n",
    "df_with_dtypes.to_feather('file.feather')"
   ]
  },
  {
   "cell_type": "code",
   "execution_count": 22,
   "id": "9a38d927",
   "metadata": {},
   "outputs": [
    {
     "name": "stdout",
     "output_type": "stream",
     "text": [
      "1.96 s ± 29.4 ms per loop (mean ± std. dev. of 7 runs, 1 loop each)\n"
     ]
    }
   ],
   "source": [
    "%%timeit\n",
    "df_feather = pd.read_feather('file.feather')"
   ]
  },
  {
   "cell_type": "code",
   "execution_count": 23,
   "id": "32d4b91c",
   "metadata": {},
   "outputs": [
    {
     "data": {
      "text/plain": [
       "0.53724645"
      ]
     },
     "execution_count": 23,
     "metadata": {},
     "output_type": "execute_result"
    }
   ],
   "source": [
    "# 537 MB\n",
    "os.stat('file.feather').st_size / 10 ** 9"
   ]
  },
  {
   "cell_type": "code",
   "execution_count": 24,
   "id": "577fc6cd",
   "metadata": {
    "scrolled": true
   },
   "outputs": [
    {
     "data": {
      "text/plain": [
       "6"
      ]
     },
     "execution_count": 24,
     "metadata": {},
     "output_type": "execute_result"
    }
   ],
   "source": [
    "gc.collect()"
   ]
  },
  {
   "cell_type": "markdown",
   "id": "3c21daba",
   "metadata": {},
   "source": [
    "We can see that CSV is much slower to read and write and occupies more space in storage than Pickle, Parquet, or Feather files. The type of problem you are trying to solve may likely determine what file type you choose to work with."
   ]
  },
  {
   "attachments": {
    "file_size.png": {
     "image/png": "[encoded data removed]"
    }
   },
   "cell_type": "markdown",
   "id": "9143775f",
   "metadata": {},
   "source": [
    "![file_size.png](attachment:file_size.png)"
   ]
  },
  {
   "attachments": {
    "io_speeds.png": {
     "image/png": "[encoded data removed]"
    }
   },
   "cell_type": "markdown",
   "id": "962ff9b8",
   "metadata": {},
   "source": [
    "![io_speeds.png](attachment:io_speeds.png)"
   ]
  },
  {
   "cell_type": "markdown",
   "id": "cabfbcc3",
   "metadata": {},
   "source": [
    "## Dividing Data into Chunks"
   ]
  },
  {
   "cell_type": "markdown",
   "id": "2f07482b",
   "metadata": {},
   "source": [
    "Depending on the problem you are trying to solve, you can save memory usage by loading in portions of a dataset at a time or simply ignoring irrelevant columns. Chunking refers to loading in chunks of the data, and performing some type of computation on each chunk such that you can get the value or an approximation of the value you would get if you loaded in the entire dataset at once."
   ]
  },
  {
   "cell_type": "code",
   "execution_count": 25,
   "id": "b83cc5ac",
   "metadata": {},
   "outputs": [],
   "source": [
    "df = pd.read_csv(file_path, nrows = rows, dtype = df_dtypes)"
   ]
  },
  {
   "cell_type": "code",
   "execution_count": 26,
   "id": "43d207ca",
   "metadata": {},
   "outputs": [],
   "source": [
    "def get_rowcount_large_file(filepath):\n",
    "    with open(file_path) as f:\n",
    "        return sum(1 for line in f)"
   ]
  },
  {
   "cell_type": "code",
   "execution_count": 27,
   "id": "f973e46d",
   "metadata": {},
   "outputs": [
    {
     "data": {
      "text/plain": [
       "67501980"
      ]
     },
     "execution_count": 27,
     "metadata": {},
     "output_type": "execute_result"
    }
   ],
   "source": [
    "get_rowcount_large_file(file_path)"
   ]
  },
  {
   "cell_type": "code",
   "execution_count": 28,
   "id": "ff723c57",
   "metadata": {},
   "outputs": [
    {
     "name": "stdout",
     "output_type": "stream",
     "text": [
      "Sum after 10 chunks: 2.0578281908942404e+25\n",
      "Sum after 20 chunks: 4.11567463288836e+25\n",
      "Sum after 30 chunks: 6.173145752110703e+25\n",
      "Sum after 40 chunks: 8.231172230191228e+25\n",
      "Sum after 50 chunks: 1.0288828450126491e+26\n",
      "Sum after 60 chunks: 1.234698523126513e+26\n",
      "Sum after 69 chunks: 1.3891216360838123e+26\n"
     ]
    }
   ],
   "source": [
    "chunk_number = 1\n",
    "sum_cols = 0\n",
    "# there are 67,501,980 rows in this dataset, so we can divide it into ~68 chunks of 1,000,000 rows\n",
    "for chunk in pd.read_csv(file_path, chunksize=1_000_000):\n",
    "    ## PERFORM SOME COMPUTATION HERE\n",
    "    # This example finds the sum of all the values in the product_id, category_id, price, and user_id columns\n",
    "    # This computation isn't particularly useful, but shows the potential benefits chunking can offer\n",
    "    sum_cols = np.sum([chunk['product_id'], chunk['category_id'], chunk['price'], chunk['user_id']]) + sum_cols\n",
    "    \n",
    "    # Print sum after ever 10 chunks\n",
    "    if chunk_number % 10 == 0:\n",
    "        print(f\"Sum after {chunk_number} chunks: {sum_cols}\")\n",
    "    \n",
    "    chunk_number+=1\n",
    "\n",
    "print(f\"Sum after {chunk_number} chunks: {sum_cols}\")"
   ]
  },
  {
   "cell_type": "code",
   "execution_count": 29,
   "id": "1f5f42bf",
   "metadata": {},
   "outputs": [
    {
     "data": {
      "text/plain": [
       "0"
      ]
     },
     "execution_count": 29,
     "metadata": {},
     "output_type": "execute_result"
    }
   ],
   "source": [
    "gc.collect()"
   ]
  },
  {
   "cell_type": "markdown",
   "id": "0c35cc59",
   "metadata": {},
   "source": [
    "## Parallel Computing"
   ]
  },
  {
   "cell_type": "markdown",
   "id": "73d2a0b3",
   "metadata": {},
   "source": [
    "As I mentioned in the main post, you can parallize your code to make processes more efficient. Most modern CPUs have upwards of eight cores, which are small processing units that can handle separate tasks independently, allowing for you to execute your code in parallel. GPUs have thousands of these cores, making them excellent at performing computations in parallel. \n",
    "\n",
    "Usually if a specific task is known to greatly benefit from being computed in parallel, there will most likely be a Python package that does back-end optimizations to make use of multiple cores of your CPU or your GPU. In fact, deep learning libraries like TensorFlow and PyTorch can take full advantage of the “embarrassingly parallel” nature of neural network training and direct computations to your GPU instead of CPU. That being said, you still have the ability to manually parallize any of your code, as long as it makes sense in a parallel computing context.\n",
    "\n",
    "Consider an example where you are trying to calculate the mean of 100 numbers. If you were to calculate this normally, you would just add up all 100 numbers then divide by 100. You can compute this mean in parallel by dividing the dataset into 5 subsets of 20, take the mean of each of those subsets, and average those means to arrive at the same answer. When you only have 100 numbers, you won't be saving that much time, however, if you have 100 billion numbers, computing in parallel will save a lot of time. \n",
    "\n",
    "<img src=\"Parallel_Computing_Example.png\" alt=\"Drawing\" style=\"height: 600px\"/>"
   ]
  },
  {
   "cell_type": "code",
   "execution_count": 30,
   "id": "205a56a8",
   "metadata": {},
   "outputs": [
    {
     "data": {
      "text/plain": [
       "array([[5, 0, 3, 3, 7, 9, 3, 5, 2, 4],\n",
       "       [7, 6, 8, 8, 1, 6, 7, 7, 8, 1],\n",
       "       [5, 9, 8, 9, 4, 3, 0, 3, 5, 0],\n",
       "       [2, 3, 8, 1, 3, 3, 3, 7, 0, 1],\n",
       "       [9, 9, 0, 4, 7, 3, 2, 7, 2, 0]])"
      ]
     },
     "execution_count": 30,
     "metadata": {},
     "output_type": "execute_result"
    }
   ],
   "source": [
    "# Replicating the picture above in numpy\n",
    "np.random.seed(0)\n",
    "data = np.random.randint(10, size = (5, 10))\n",
    "data"
   ]
  },
  {
   "cell_type": "code",
   "execution_count": 31,
   "id": "3a8bc29d",
   "metadata": {},
   "outputs": [
    {
     "data": {
      "text/plain": [
       "array([4.1, 5.9, 4.6, 3.1, 4.3])"
      ]
     },
     "execution_count": 31,
     "metadata": {},
     "output_type": "execute_result"
    }
   ],
   "source": [
    "parallel_means = np.mean(data, axis = 1)\n",
    "parallel_means"
   ]
  },
  {
   "cell_type": "code",
   "execution_count": 32,
   "id": "326ffd7e",
   "metadata": {},
   "outputs": [
    {
     "data": {
      "text/plain": [
       "4.4"
      ]
     },
     "execution_count": 32,
     "metadata": {},
     "output_type": "execute_result"
    }
   ],
   "source": [
    "traditional_mean = np.mean(data)\n",
    "traditional_mean"
   ]
  },
  {
   "cell_type": "code",
   "execution_count": 33,
   "id": "61c4f6ec",
   "metadata": {},
   "outputs": [
    {
     "data": {
      "text/plain": [
       "True"
      ]
     },
     "execution_count": 33,
     "metadata": {},
     "output_type": "execute_result"
    }
   ],
   "source": [
    "# We can see that the mean computations are the same\n",
    "np.mean(parallel_means) == traditional_mean"
   ]
  }
 ],
 "metadata": {
  "kernelspec": {
   "display_name": "Python 3 (ipykernel)",
   "language": "python",
   "name": "python3"
  },
  "language_info": {
   "codemirror_mode": {
    "name": "ipython",
    "version": 3
   },
   "file_extension": ".py",
   "mimetype": "text/x-python",
   "name": "python",
   "nbconvert_exporter": "python",
   "pygments_lexer": "ipython3",
   "version": "3.11.3"
  }
 },
 "nbformat": 4,
 "nbformat_minor": 5
}
